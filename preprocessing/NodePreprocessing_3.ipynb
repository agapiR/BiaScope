{
 "cells": [
  {
   "cell_type": "code",
   "execution_count": 1,
   "metadata": {},
   "outputs": [],
   "source": [
    "import networkx as nx\n",
    "import numpy as np\n",
    "import time\n",
    "from sklearn.decomposition import PCA\n",
    "\n",
    "import sys\n",
    "sys.path.append(\"..\")\n",
    "import utilities\n",
    "from utilities import group_unfairness_score, group_unfairness_scores\n",
    "import csv"
   ]
  },
  {
   "cell_type": "code",
   "execution_count": 2,
   "metadata": {},
   "outputs": [],
   "source": [
    "# graph_metadata = {\"Facebook\": {\"edgelist\": \"../edgelists/facebook_combined.edgelist\"},\n",
    "#                  \"LastFM\": {\"edgelist\": \"../edgelists/lastfm_asia_edges.edgelist\"},\n",
    "#                  \"wikipedia\": {\"edgelist\": \"../edgelists/wikipedia.edgelist\"},\n",
    "#                   \"protein-protein\": {\"edgelist\": \"../edgelists/ppi.edgelist\"},\n",
    "#                   \"ca-HepTh\": {\"edgelist\": \"../edgelists/ca-HepTh.edgelist\"},\n",
    "#                   \"AutonomousSystems\": {\"edgelist\": \"../edgelists/AS.edgelist\"},\n",
    "# #                  }\n",
    "# graph_metadata = {\"Facebook\": {\"edgelist\": \"../edgelists/facebook_combined.edgelist\", \n",
    "#                                 \"features\":\"../edgelists/facebook/node_genders.txt\"},\n",
    "#                     # \"Ex1\": {\"edgelist\": \"../edgelists/facebook_combined.edgelist\", \n",
    "#                     #             \"features\":\"../edgelists/facebook/node_genders.txt\"}          \n",
    "#                  }\n",
    "# embedding_algs = [\"Node2Vec\", \"HOPE\", \"HGCN\", \"LaplacianEigenmap\", \"SDNE\", \"SVD\"]"
   ]
  },
  {
   "cell_type": "code",
   "execution_count": 3,
   "metadata": {},
   "outputs": [
    {
     "name": "stdout",
     "output_type": "stream",
     "text": [
      "\n",
      "Node2Vec\n",
      "\n",
      "HOPE\n",
      "\n",
      "HGCN\n",
      "\n",
      "LaplacianEigenmap\n",
      "\n",
      "SDNE\n",
      "\n",
      "SVD\n"
     ]
    }
   ],
   "source": [
    "# Add sensitive attribute to node features csv (gender with value associated with the node) \n",
    "embedding_algs = [\"Node2Vec\", \"HOPE\", \"HGCN\", \"LaplacianEigenmap\", \"SDNE\", \"SVD\"]\n",
    "\n",
    "node_features_file = \"../edgelist/facebook/node_genders.txt\"\n",
    "\n",
    "for embedding_alg in embedding_algs:\n",
    "    print(\"\\n\" + embedding_alg)\n",
    "    prev_node_features_file = \"../embeddings/{}/{}/{}_{}_64_embedding_node_features_InFoRM_scores.csv\".format(\"Facebook\", \n",
    "                                                                                         embedding_alg, \n",
    "                                                                                         \"Facebook\", \n",
    "                                                                                         embedding_alg)\n",
    "    output_file = \"../embeddings/{}/{}/{}_{}_64_embedding_node_features_InFoRM_scores_with_gender.csv\".format(\"Facebook\", \n",
    "                                                                                         embedding_alg, \n",
    "                                                                                         \"Facebook\", \n",
    "                                                                                         embedding_alg)\n",
    "    node_features_file = \"../edgelists/facebook/node_genders.txt\"\n",
    "    node_features = np.loadtxt(open(node_features_file, \"rb\"), delimiter=\",\", skiprows=1).astype(int)\n",
    "\n",
    "    # dict node_id -> gender\n",
    "    node_gender = {}\n",
    "    for i in range(len(node_features)):\n",
    "        node_gender[node_features[i,0]] = node_features[i,1]\n",
    "\n",
    "    with open(output_file, \"w\") as outputCSV:\n",
    "            outputCSV.write(\"id,pos_x,pos_y,proj_x,proj_y,gender,nr_hops,InFoRM_hops\\n\")\n",
    "\n",
    "            with open(prev_node_features_file, newline='') as f:\n",
    "                reader = csv.reader(f)\n",
    "                data = list(reader)\n",
    "            \n",
    "            for line in data[1:]:\n",
    "                node_id = int(line[0])\n",
    "                try:\n",
    "                    gender = node_gender[node_id]\n",
    "                except:\n",
    "                    # if gender is not assigned, we assign '0' by default\n",
    "                    gender = '0'\n",
    "                outputCSV.write(\"{},{},{},{},{},{},{},{}\\n\".format(node_id,#'id'\n",
    "                                                        line[1],#'pos_x'\n",
    "                                                        line[2],#'pos_y'\n",
    "                                                        line[3],#'proj_x'\n",
    "                                                        line[4],#'proj_y'\n",
    "                                                        gender,\n",
    "                                                        line[5],#'nr_hops'\n",
    "                                                        line[6],#'InFoRM_hops'\n",
    "                                                        ))\n",
    "\n",
    "\n"
   ]
  }
 ],
 "metadata": {
  "kernelspec": {
   "display_name": "Python 3 (ipykernel)",
   "language": "python",
   "name": "python3"
  },
  "language_info": {
   "codemirror_mode": {
    "name": "ipython",
    "version": 3
   },
   "file_extension": ".py",
   "mimetype": "text/x-python",
   "name": "python",
   "nbconvert_exporter": "python",
   "pygments_lexer": "ipython3",
   "version": "3.8.13"
  }
 },
 "nbformat": 4,
 "nbformat_minor": 4
}
