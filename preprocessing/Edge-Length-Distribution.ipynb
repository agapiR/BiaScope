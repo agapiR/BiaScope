{
 "cells": [
  {
   "cell_type": "code",
   "execution_count": 13,
   "metadata": {},
   "outputs": [],
   "source": [
    "import networkx as nx\n",
    "import numpy as np\n",
    "import time\n",
    "from sklearn.decomposition import PCA\n",
    "import math\n",
    "import seaborn as sns\n",
    "import matplotlib.pyplot as plt"
   ]
  },
  {
   "cell_type": "code",
   "execution_count": 14,
   "metadata": {},
   "outputs": [],
   "source": [
    "# id, pos_x, pos_y, inFoRM, proj_x, proj_y"
   ]
  },
  {
   "cell_type": "code",
   "execution_count": null,
   "metadata": {},
   "outputs": [
    {
     "name": "stdout",
     "output_type": "stream",
     "text": [
      "\n",
      "\n",
      "Facebook\n",
      "\n",
      "\n",
      "LastFM\n",
      "\n",
      "\n",
      "wikipedia\n",
      "\n",
      "\n",
      "protein-protein\n",
      "\n",
      "\n",
      "ca-HepTh\n",
      "\n",
      "\n",
      "AutonomousSystems\n"
     ]
    }
   ],
   "source": [
    "graph_metadata = {\"Facebook\": {\"edgelist\": \"../edgelists/facebook_combined.edgelist\"},\n",
    "                 \"LastFM\": {\"edgelist\": \"../edgelists/lastfm_asia_edges.edgelist\"},\n",
    "                 \"wikipedia\": {\"edgelist\": \"../edgelists/wikipedia.edgelist\"},\n",
    "                  \"protein-protein\": {\"edgelist\": \"../edgelists/ppi.edgelist\"},\n",
    "                  \"ca-HepTh\": {\"edgelist\": \"../edgelists/ca-HepTh.edgelist\"},\n",
    "                  \"AutonomousSystems\": {\"edgelist\": \"../edgelists/AS.edgelist\"},\n",
    "                 }\n",
    "embedding_algs = [\"Node2Vec\"]\n",
    "\n",
    "fig, ax = plt.subplots(figsize=(10,10))\n",
    "for graph_name in graph_metadata:\n",
    "    print(\"\\n\\n\" + graph_name)\n",
    "    edgelist_file = graph_metadata[graph_name][\"edgelist\"]\n",
    "    G = nx.read_edgelist(edgelist_file)\n",
    "    fig_nx, ax_nx = plt.subplots(figsize=(10,10))\n",
    "    nx.draw_spring(G, ax=ax_nx)\n",
    "    for embedding_alg in embedding_algs:\n",
    "        \n",
    "        output_file = \"../embeddings/{}/{}/{}_{}_64_embedding_node_features.csv\".format(graph_name, \n",
    "                                                                                         embedding_alg, \n",
    "                                                                                         graph_name, \n",
    "                                                                                         embedding_alg)\n",
    "        node_features = {}\n",
    "        with open(output_file, \"r\") as outputCSV:\n",
    "            lines = outputCSV.readlines()\n",
    "            for i in range(1, len(lines)):\n",
    "                line_entries = [feature.strip() for feature in lines[i].split(\",\")]\n",
    "                node_features[line_entries[0]] = {\"pos_x\": float(line_entries[1]),\n",
    "                                                 \"pos_y\": float(line_entries[2])}\n",
    "        \n",
    "        edge_lengths = []\n",
    "        for edge in G.edges():\n",
    "            length = math.sqrt((node_features[edge[0]][\"pos_x\"] - node_features[edge[1]][\"pos_x\"])**2 \n",
    "                               + (node_features[edge[0]][\"pos_y\"] - node_features[edge[1]][\"pos_y\"])**2)\n",
    "            edge_lengths.append(length)\n",
    "        sns.kdeplot(edge_lengths, label=graph_name, ax=ax)"
   ]
  },
  {
   "cell_type": "code",
   "execution_count": null,
   "metadata": {},
   "outputs": [],
   "source": []
  }
 ],
 "metadata": {
  "kernelspec": {
   "display_name": "Python 3",
   "language": "python",
   "name": "python3"
  },
  "language_info": {
   "codemirror_mode": {
    "name": "ipython",
    "version": 3
   },
   "file_extension": ".py",
   "mimetype": "text/x-python",
   "name": "python",
   "nbconvert_exporter": "python",
   "pygments_lexer": "ipython3",
   "version": "3.8.3"
  }
 },
 "nbformat": 4,
 "nbformat_minor": 4
}
