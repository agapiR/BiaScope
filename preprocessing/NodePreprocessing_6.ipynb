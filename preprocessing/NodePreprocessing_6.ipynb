{
 "cells": [
  {
   "cell_type": "code",
   "execution_count": 1,
   "metadata": {},
   "outputs": [],
   "source": [
    "import networkx as nx\n",
    "import numpy as np\n",
    "import time\n",
    "# from sklearn.decomposition import PCA\n",
    "from umap import UMAP\n",
    "\n",
    "import sys\n",
    "sys.path.append(\"..\")\n",
    "import utilities"
   ]
  },
  {
   "cell_type": "code",
   "execution_count": 2,
   "metadata": {},
   "outputs": [],
   "source": [
    "# id, pos_x, pos_y, inFoRM, proj_x, proj_y"
   ]
  },
  {
   "cell_type": "code",
   "execution_count": 3,
   "metadata": {},
   "outputs": [],
   "source": [
    "# networkx positions \n",
    "def get_node_pos(G, node_features):\n",
    "    G = nx.read_edgelist(edgelist_file)\n",
    "    nodes = list(G.nodes())\n",
    "\n",
    "    start = time.time()\n",
    "    nodePos = nx.spring_layout(G, seed=42)\n",
    "    end = time.time()\n",
    "\n",
    "    for node in nodes:\n",
    "        if node not in node_features:\n",
    "            node_features[node] = {\"id\": node}\n",
    "        node_features[node][\"pos_x\"] = nodePos[node][0]\n",
    "        node_features[node][\"pos_y\"] = nodePos[node][1]\n",
    "    print(\"Spring Layout Elapsed Time: {}\".format(int(end - start)))"
   ]
  },
  {
   "cell_type": "code",
   "execution_count": 4,
   "metadata": {},
   "outputs": [],
   "source": [
    "# def get_pca_proj(G, embeddings, node_features):\n",
    "#     start = time.time()\n",
    "#     embeddings_pca = PCA(n_components=2).fit_transform(embeddings)\n",
    "#     end = time.time()\n",
    "#     nodes = list(G.nodes())\n",
    "#     for i in range(len(nodes)):\n",
    "#         node_features[nodes[i]][\"proj_x\"] = embeddings_pca[i][0]\n",
    "#         node_features[nodes[i]][\"proj_y\"] = embeddings_pca[i][1]\n",
    "\n",
    "#     print(\"PCA Elapsed Time: {}\".format(int(end - start)))\n",
    "\n",
    "def get_umap_proj(G, embeddings, node_features):\n",
    "    start = time.time()\n",
    "    umap_2d = UMAP(n_components=2, init='random', random_state=0)\n",
    "\n",
    "    embeddings_umap = umap_2d.fit_transform(embeddings)\n",
    "    end = time.time()\n",
    "    nodes = list(G.nodes())\n",
    "    for i in range(len(nodes)):\n",
    "        node_features[nodes[i]][\"proj_x\"] = embeddings_umap[i][0]\n",
    "        node_features[nodes[i]][\"proj_y\"] = embeddings_umap[i][1]\n",
    "\n",
    "    print(\"UMAP Elapsed Time: {}\".format(int(end - start)))"
   ]
  },
  {
   "cell_type": "code",
   "execution_count": 5,
   "metadata": {},
   "outputs": [],
   "source": [
    "def get_inFoRM(G, embeddings, node_features):\n",
    "    adj_matrix = nx.to_numpy_array(G)\n",
    "    assert(adj_matrix.max() == 1)\n",
    "    start = time.time()\n",
    "    inFoRM_scores = utilities.unfairness_scores_normalized(embeddings, adj_matrix, G)\n",
    "    end = time.time()\n",
    "    nodes = list(G.nodes())\n",
    "    for i in range(len(inFoRM_scores)):\n",
    "        node_features[nodes[i]][\"InFoRM\"] = inFoRM_scores[i]\n",
    "    print(\"InFoRM Elapsed Time: {}\".format(int(end - start)))"
   ]
  },
  {
   "cell_type": "code",
   "execution_count": 6,
   "metadata": {},
   "outputs": [],
   "source": [
    "# def get_inFoRM_hops(G, embeddings, node_features, nr_hops):\n",
    "#     # adj_matrix = nx.to_numpy_array(G)\n",
    "#     # assert(adj_matrix.max() == 1)\n",
    "#     start = time.time()\n",
    "#     inFoRM_hops_scores = utilities.uk_hop_InFoRM_scores_normalized(embeddings, G, nr_hops)\n",
    "#     end = time.time()\n",
    "#     nodes = list(G.nodes())\n",
    "#     for i in range(len(inFoRM_hops_scores)):\n",
    "#         node_features[nodes[i]][\"InFoRM_hops\"] = inFoRM_hops_scores[i]\n",
    "#     print(\"InFoRM hops Elapsed Time: {}\".format(int(end - start)))"
   ]
  },
  {
   "cell_type": "code",
   "execution_count": 19,
   "metadata": {},
   "outputs": [
    {
     "name": "stdout",
     "output_type": "stream",
     "text": [
      "\n",
      "\n",
      "ca-HepTh\n",
      "Spring Layout Elapsed Time: 208\n",
      "\n",
      "Node2Vec\n",
      "PCA Elapsed Time: 0\n"
     ]
    },
    {
     "ename": "IndexError",
     "evalue": "index 24325 is out of bounds for axis 0 with size 9877",
     "output_type": "error",
     "traceback": [
      "\u001b[0;31m---------------------------------------------------------------------------\u001b[0m",
      "\u001b[0;31mIndexError\u001b[0m                                Traceback (most recent call last)",
      "\u001b[1;32m/Users/brunoscarone/Documents/PhD - Northeastern/Academics/Courses/Spring 22/CS7250 - InfViz/Final Project/Github_repo/InfoViz-Final/preprocessing/NodePreprocessing.ipynb Cell 7'\u001b[0m in \u001b[0;36m<cell line: 16>\u001b[0;34m()\u001b[0m\n\u001b[1;32m     <a href='vscode-notebook-cell:/Users/brunoscarone/Documents/PhD%20-%20Northeastern/Academics/Courses/Spring%2022/CS7250%20-%20InfViz/Final%20Project/Github_repo/InfoViz-Final/preprocessing/NodePreprocessing.ipynb#ch0000006?line=48'>49</a>\u001b[0m inFoRM_hops_score \u001b[39m=\u001b[39m utilities\u001b[39m.\u001b[39mk_hop_InFoRM_scores_normalized(embeddings, G, nr_hops)\n\u001b[1;32m     <a href='vscode-notebook-cell:/Users/brunoscarone/Documents/PhD%20-%20Northeastern/Academics/Courses/Spring%2022/CS7250%20-%20InfViz/Final%20Project/Github_repo/InfoViz-Final/preprocessing/NodePreprocessing.ipynb#ch0000006?line=50'>51</a>\u001b[0m \u001b[39mfor\u001b[39;00m node_id \u001b[39min\u001b[39;00m node_features:\n\u001b[0;32m---> <a href='vscode-notebook-cell:/Users/brunoscarone/Documents/PhD%20-%20Northeastern/Academics/Courses/Spring%2022/CS7250%20-%20InfViz/Final%20Project/Github_repo/InfoViz-Final/preprocessing/NodePreprocessing.ipynb#ch0000006?line=51'>52</a>\u001b[0m     \u001b[39mif\u001b[39;00m nr_hops \u001b[39m==\u001b[39m \u001b[39m1\u001b[39m \u001b[39mand\u001b[39;00m \u001b[39mround\u001b[39m(inFoRM_hops_score[\u001b[39mint\u001b[39;49m(node_id)],\u001b[39m8\u001b[39m) \u001b[39m!=\u001b[39m \u001b[39mround\u001b[39m(inFoRM_1_score[\u001b[39mint\u001b[39m(node_id)],\u001b[39m8\u001b[39m):\n\u001b[1;32m     <a href='vscode-notebook-cell:/Users/brunoscarone/Documents/PhD%20-%20Northeastern/Academics/Courses/Spring%2022/CS7250%20-%20InfViz/Final%20Project/Github_repo/InfoViz-Final/preprocessing/NodePreprocessing.ipynb#ch0000006?line=52'>53</a>\u001b[0m         \u001b[39m# check consistency with previous function for nr_hops = 1\u001b[39;00m\n\u001b[1;32m     <a href='vscode-notebook-cell:/Users/brunoscarone/Documents/PhD%20-%20Northeastern/Academics/Courses/Spring%2022/CS7250%20-%20InfViz/Final%20Project/Github_repo/InfoViz-Final/preprocessing/NodePreprocessing.ipynb#ch0000006?line=53'>54</a>\u001b[0m         \u001b[39mprint\u001b[39m(\u001b[39m'\u001b[39m\u001b[39mnode_id\u001b[39m\u001b[39m'\u001b[39m,node_id)\n\u001b[1;32m     <a href='vscode-notebook-cell:/Users/brunoscarone/Documents/PhD%20-%20Northeastern/Academics/Courses/Spring%2022/CS7250%20-%20InfViz/Final%20Project/Github_repo/InfoViz-Final/preprocessing/NodePreprocessing.ipynb#ch0000006?line=54'>55</a>\u001b[0m         \u001b[39mprint\u001b[39m(\u001b[39m'\u001b[39m\u001b[39minFoRM_hops_score[int(node_id)]\u001b[39m\u001b[39m'\u001b[39m,inFoRM_hops_score[\u001b[39mint\u001b[39m(node_id)])\n",
      "\u001b[0;31mIndexError\u001b[0m: index 24325 is out of bounds for axis 0 with size 9877"
     ]
    }
   ],
   "source": [
    "graph_metadata = {\"Facebook\": {\"edgelist\": \"../edgelists/facebook_combined.edgelist\"},\n",
    "                 \"LastFM\": {\"edgelist\": \"../edgelists/lastfm_asia_edges.edgelist\"},\n",
    "                 \"wikipedia\": {\"edgelist\": \"../edgelists/wikipedia.edgelist\"},\n",
    "                  \"protein-protein\": {\"edgelist\": \"../edgelists/ppi.edgelist\"},\n",
    "                  \"ca-HepTh\": {\"edgelist\": \"../edgelists/ca-HepTh.edgelist\"},\n",
    "                  \"AutonomousSystems\": {\"edgelist\": \"../edgelists/AS.edgelist\"},\n",
    "                 }\n",
    "# graph_metadata = {\n",
    "#                  #\"wikipedia\": {\"edgelist\": \"../edgelists/wikipedia.edgelist\"},\n",
    "#                   #protein-protein\": {\"edgelist\": \"../edgelists/ppi.edgelist\"},\n",
    "#                   #\"ca-HepTh\": {\"edgelist\": \"../edgelists/ca-HepTh.edgelist\"},\n",
    "#                   \"AutonomousSystems\": {\"edgelist\": \"../edgelists/AS.edgelist\"},\n",
    "#                  }\n",
    "embedding_algs = [\"Node2Vec\", \"HOPE\", \"HGCN\", \"LaplacianEigenmap\", \"SDNE\", \"SVD\"]\n",
    "\n",
    "for graph_name in graph_metadata:\n",
    "    print(\"\\n\\n\" + graph_name)\n",
    "    node_features = {}\n",
    "\n",
    "    edgelist_file = graph_metadata[graph_name][\"edgelist\"]\n",
    "    G = nx.read_edgelist(edgelist_file)\n",
    "\n",
    "    get_node_pos(G, node_features)\n",
    "\n",
    "    # ids from the nodes are not sorted\n",
    "    # for i,n in node_features.items():\n",
    "    #     print(i,n)\n",
    "    \n",
    "    for embedding_alg in embedding_algs:\n",
    "        print(\"\\n\" + embedding_alg)\n",
    "        embedding_file = \"../embeddings/{}/{}/{}_{}_64_embedding.npy\".format(graph_name, \n",
    "                                                                             embedding_alg, \n",
    "                                                                             graph_name, \n",
    "                                                                             embedding_alg)\n",
    "        embeddings = np.load(embedding_file)\n",
    "        \n",
    "        node_features_copy = node_features.copy()\n",
    "        get_umap_proj(G, embeddings, node_features_copy)\n",
    "        \n",
    "        output_file = \"../embeddings/{}/{}/{}_{}_64_embedding_node_features_InFoRM_scores_umap.csv\".format(graph_name, \n",
    "                                                                                         embedding_alg, \n",
    "                                                                                         graph_name, \n",
    "                                                                                         embedding_alg)\n",
    "        adj_matrix = nx.to_numpy_array(G) # only needed for consistency check\n",
    "        inFoRM_1_score = utilities.unfairness_scores_normalized(embeddings, adj_matrix, G) # only needed for consistency check\n",
    "        with open(output_file, \"w\") as outputCSV:\n",
    "            outputCSV.write(\"id,pos_x,pos_y,proj_x,proj_y,nr_hops,InFoRM_hops\\n\")\n",
    "            for nr_hops in range(1,3):\n",
    "                inFoRM_hops_score = utilities.k_hop_InFoRM_scores_normalized(embeddings, G, nr_hops)\n",
    "                \n",
    "                for node_id in node_features:\n",
    "                    if nr_hops == 1 and round(inFoRM_hops_score[int(node_id)],8) != round(inFoRM_1_score[int(node_id)],8):\n",
    "                        # check consistency with previous function for nr_hops = 1\n",
    "                        print('node_id',node_id)\n",
    "                        print('inFoRM_hops_score[int(node_id)]',inFoRM_hops_score[int(node_id)])\n",
    "                        print('inFoRM_1_score[int(node_id)]',inFoRM_1_score[int(node_id)])\n",
    "                        break\n",
    "                    outputCSV.write(\"{},{},{},{},{},{},{}\\n\".format(node_features[node_id][\"id\"],\n",
    "                                                                    node_features[node_id][\"pos_x\"],\n",
    "                                                                    node_features[node_id][\"pos_y\"],\n",
    "                                                                    node_features[node_id][\"proj_x\"],\n",
    "                                                                    node_features[node_id][\"proj_y\"],\n",
    "                                                                    nr_hops,\n",
    "                                                                    inFoRM_hops_score[int(node_id)]))\n",
    "            "
   ]
  },
  {
   "cell_type": "code",
   "execution_count": null,
   "metadata": {},
   "outputs": [],
   "source": []
  }
 ],
 "metadata": {
  "kernelspec": {
   "display_name": "Python 3 (ipykernel)",
   "language": "python",
   "name": "python3"
  },
  "language_info": {
   "codemirror_mode": {
    "name": "ipython",
    "version": 3
   },
   "file_extension": ".py",
   "mimetype": "text/x-python",
   "name": "python",
   "nbconvert_exporter": "python",
   "pygments_lexer": "ipython3",
   "version": "3.8.13"
  }
 },
 "nbformat": 4,
 "nbformat_minor": 4
}
