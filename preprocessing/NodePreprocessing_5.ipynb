{
 "cells": [
  {
   "cell_type": "code",
   "execution_count": 1,
   "metadata": {},
   "outputs": [],
   "source": [
    "import networkx as nx\n",
    "import numpy as np\n",
    "import time\n",
    "from sklearn.decomposition import PCA\n",
    "\n",
    "import sys\n",
    "sys.path.append(\"..\")\n",
    "import utilities\n",
    "from utilities import group_unfairness_score, group_unfairness_scores, recommended_nodes\n",
    "import csv"
   ]
  },
  {
   "cell_type": "code",
   "execution_count": 2,
   "metadata": {},
   "outputs": [],
   "source": [
    "# Modified group fairness score precomputation to include larger values of k\n",
    "# id, pos_x, pos_y, inFoRM, proj_x, proj_y"
   ]
  },
  {
   "cell_type": "code",
   "execution_count": 3,
   "metadata": {},
   "outputs": [],
   "source": [
    "# # networkx positions \n",
    "# def get_node_pos(G, node_features):\n",
    "#     G = nx.read_edgelist(edgelist_file)\n",
    "#     nodes = list(G.nodes())\n",
    "\n",
    "#     start = time.time()\n",
    "#     nodePos = nx.spring_layout(G, seed=42)\n",
    "#     end = time.time()\n",
    "\n",
    "#     for node in nodes:\n",
    "#         if node not in node_features:\n",
    "#             node_features[node] = {\"id\": node}\n",
    "#         node_features[node][\"pos_x\"] = nodePos[node][0]\n",
    "#         node_features[node][\"pos_y\"] = nodePos[node][1]\n",
    "#     print(\"Spring Layout Elapsed Time: {}\".format(int(end - start)))"
   ]
  },
  {
   "cell_type": "code",
   "execution_count": 4,
   "metadata": {},
   "outputs": [],
   "source": [
    "# def get_pca_proj(G, embeddings, node_features):\n",
    "#     start = time.time()\n",
    "#     embeddings_pca = PCA(n_components=2).fit_transform(embeddings)\n",
    "#     end = time.time()\n",
    "#     nodes = list(G.nodes())\n",
    "#     for i in range(len(nodes)):\n",
    "#         node_features[nodes[i]][\"proj_x\"] = embeddings_pca[i][0]\n",
    "#         node_features[nodes[i]][\"proj_y\"] = embeddings_pca[i][1]\n",
    "\n",
    "#     print(\"PCA Elapsed Time: {}\".format(int(end - start)))"
   ]
  },
  {
   "cell_type": "code",
   "execution_count": 5,
   "metadata": {},
   "outputs": [],
   "source": [
    "# def get_inFoRM(G, embeddings, node_features):\n",
    "#     adj_matrix = nx.to_numpy_array(G)\n",
    "#     assert(adj_matrix.max() == 1)\n",
    "#     start = time.time()\n",
    "#     inFoRM_scores = utilities.unfairness_scores_normalized(embeddings, adj_matrix, G)\n",
    "#     end = time.time()\n",
    "#     nodes = list(G.nodes())\n",
    "#     for i in range(len(inFoRM_scores)):\n",
    "#         node_features[nodes[i]][\"InFoRM\"] = inFoRM_scores[i]\n",
    "#     print(\"InFoRM Elapsed Time: {}\".format(int(end - start)))"
   ]
  },
  {
   "cell_type": "code",
   "execution_count": 6,
   "metadata": {},
   "outputs": [],
   "source": [
    "# graph_metadata = {\"Facebook\": {\"edgelist\": \"../edgelists/facebook_combined.edgelist\"},\n",
    "#                  \"LastFM\": {\"edgelist\": \"../edgelists/lastfm_asia_edges.edgelist\"},\n",
    "#                  \"wikipedia\": {\"edgelist\": \"../edgelists/wikipedia.edgelist\"},\n",
    "#                   \"protein-protein\": {\"edgelist\": \"../edgelists/ppi.edgelist\"},\n",
    "#                   \"ca-HepTh\": {\"edgelist\": \"../edgelists/ca-HepTh.edgelist\"},\n",
    "#                   \"AutonomousSystems\": {\"edgelist\": \"../edgelists/AS.edgelist\"},\n",
    "#                  }\n",
    "graph_metadata = {\"Facebook\": {\"edgelist\": \"../edgelists/facebook_combined.edgelist\", \n",
    "                                \"features\":\"../edgelists/facebook/node_genders.txt\"},\n",
    "                    # \"Ex1\": {\"edgelist\": \"../edgelists/facebook_combined.edgelist\", \n",
    "                    #             \"features\":\"../edgelists/facebook/node_genders.txt\"}          \n",
    "                 }\n",
    "embedding_algs = [\"Node2Vec\", \"HOPE\", \"HGCN\", \"LaplacianEigenmap\", \"SDNE\", \"SVD\"]"
   ]
  },
  {
   "cell_type": "code",
   "execution_count": 7,
   "metadata": {},
   "outputs": [],
   "source": [
    "# generate csv file with ... and InFoRM fairness score\n",
    "# for graph_name in graph_metadata:\n",
    "#     print(\"\\n\\n\" + graph_name)\n",
    "#     node_features = {}\n",
    "\n",
    "#     edgelist_file = graph_metadata[graph_name][\"edgelist\"]\n",
    "#     G = nx.read_edgelist(edgelist_file)\n",
    "#     get_node_pos(G, node_features)\n",
    "    \n",
    "#     for embedding_alg in embedding_algs:\n",
    "#         print(\"\\n\" + embedding_alg)\n",
    "#         embedding_file = \"../embeddings/{}/{}/{}_{}_64_embedding.npy\".format(graph_name, \n",
    "#                                                                              embedding_alg, \n",
    "#                                                                              graph_name, \n",
    "#                                                                              embedding_alg)\n",
    "#         embeddings = np.load(embedding_file)\n",
    "        \n",
    "#         node_features_copy = node_features.copy()\n",
    "#         get_inFoRM(G, embeddings, node_features_copy)\n",
    "#         get_pca_proj(G, embeddings, node_features_copy)\n",
    "        \n",
    "#         output_file = \"../embeddings/{}/{}/{}_{}_64_embedding_node_features.csv\".format(graph_name, \n",
    "#                                                                                          embedding_alg, \n",
    "#                                                                                          graph_name, \n",
    "#                                                                                          embedding_alg)\n",
    "#         with open(output_file, \"w\") as outputCSV:\n",
    "#             outputCSV.write(\"id, pos_x, pos_y, proj_x, proj_y, InFoRM\\n\")\n",
    "#             for node_id in node_features:\n",
    "#                 outputCSV.write(\"{}, {}, {}, {}, {}, {}\\n\".format(node_features[node_id][\"id\"],\n",
    "#                                                                   node_features[node_id][\"pos_x\"],\n",
    "#                                                                   node_features[node_id][\"pos_y\"],\n",
    "#                                                                   node_features[node_id][\"proj_x\"],\n",
    "#                                                                   node_features[node_id][\"proj_y\"],\n",
    "#                                                                   node_features[node_id][\"InFoRM\"]))\n",
    "            "
   ]
  },
  {
   "cell_type": "code",
   "execution_count": 9,
   "metadata": {},
   "outputs": [
    {
     "name": "stdout",
     "output_type": "stream",
     "text": [
      "\n",
      "\n",
      "Facebook\n",
      "\n",
      "Node2Vec\n"
     ]
    },
    {
     "ename": "KeyboardInterrupt",
     "evalue": "",
     "output_type": "error",
     "traceback": [
      "\u001b[0;31m---------------------------------------------------------------------------\u001b[0m",
      "\u001b[0;31mKeyboardInterrupt\u001b[0m                         Traceback (most recent call last)",
      "\u001b[1;32m/Users/brunoscarone/Documents/PhD - Northeastern/Academics/Courses/Spring 22/CS7250 - InfViz/Final Project/Github_repos/BiaScope/preprocessing/NodePreprocessing_5.ipynb Cell 8'\u001b[0m in \u001b[0;36m<cell line: 3>\u001b[0;34m()\u001b[0m\n\u001b[1;32m     <a href='vscode-notebook-cell:/Users/brunoscarone/Documents/PhD%20-%20Northeastern/Academics/Courses/Spring%2022/CS7250%20-%20InfViz/Final%20Project/Github_repos/BiaScope/preprocessing/NodePreprocessing_5.ipynb#ch0000007?line=31'>32</a>\u001b[0m \u001b[39mfor\u001b[39;00m node_id \u001b[39min\u001b[39;00m \u001b[39mrange\u001b[39m(\u001b[39mlen\u001b[39m(W)): \u001b[39m# node ids start from 0\u001b[39;00m\n\u001b[1;32m     <a href='vscode-notebook-cell:/Users/brunoscarone/Documents/PhD%20-%20Northeastern/Academics/Courses/Spring%2022/CS7250%20-%20InfViz/Final%20Project/Github_repos/BiaScope/preprocessing/NodePreprocessing_5.ipynb#ch0000007?line=32'>33</a>\u001b[0m     \u001b[39mfor\u001b[39;00m k \u001b[39min\u001b[39;00m [\u001b[39m5\u001b[39m,\u001b[39m10\u001b[39m,\u001b[39m20\u001b[39m,\u001b[39m25\u001b[39m]: \u001b[39m# define possible values for k\u001b[39;00m\n\u001b[1;32m     <a href='vscode-notebook-cell:/Users/brunoscarone/Documents/PhD%20-%20Northeastern/Academics/Courses/Spring%2022/CS7250%20-%20InfViz/Final%20Project/Github_repos/BiaScope/preprocessing/NodePreprocessing_5.ipynb#ch0000007?line=33'>34</a>\u001b[0m         \u001b[39m# compute recommended nodes\u001b[39;00m\n\u001b[0;32m---> <a href='vscode-notebook-cell:/Users/brunoscarone/Documents/PhD%20-%20Northeastern/Academics/Courses/Spring%2022/CS7250%20-%20InfViz/Final%20Project/Github_repos/BiaScope/preprocessing/NodePreprocessing_5.ipynb#ch0000007?line=34'>35</a>\u001b[0m         rho_u \u001b[39m=\u001b[39m recommended_nodes(embedding,W,node_id,k)\n\u001b[1;32m     <a href='vscode-notebook-cell:/Users/brunoscarone/Documents/PhD%20-%20Northeastern/Academics/Courses/Spring%2022/CS7250%20-%20InfViz/Final%20Project/Github_repos/BiaScope/preprocessing/NodePreprocessing_5.ipynb#ch0000007?line=35'>36</a>\u001b[0m         \u001b[39m# write data to csv file\u001b[39;00m\n\u001b[1;32m     <a href='vscode-notebook-cell:/Users/brunoscarone/Documents/PhD%20-%20Northeastern/Academics/Courses/Spring%2022/CS7250%20-%20InfViz/Final%20Project/Github_repos/BiaScope/preprocessing/NodePreprocessing_5.ipynb#ch0000007?line=36'>37</a>\u001b[0m         outputCSV\u001b[39m.\u001b[39mwrite(\u001b[39m\"\u001b[39m\u001b[39m{}\u001b[39;00m\u001b[39m,\u001b[39m\u001b[39m{}\u001b[39;00m\u001b[39m,\u001b[39m\u001b[39m{}\u001b[39;00m\u001b[39m,\u001b[39m\u001b[39m\\n\u001b[39;00m\u001b[39m\"\u001b[39m\u001b[39m.\u001b[39mformat(node_id,\n\u001b[1;32m     <a href='vscode-notebook-cell:/Users/brunoscarone/Documents/PhD%20-%20Northeastern/Academics/Courses/Spring%2022/CS7250%20-%20InfViz/Final%20Project/Github_repos/BiaScope/preprocessing/NodePreprocessing_5.ipynb#ch0000007?line=37'>38</a>\u001b[0m                                 k,\n\u001b[1;32m     <a href='vscode-notebook-cell:/Users/brunoscarone/Documents/PhD%20-%20Northeastern/Academics/Courses/Spring%2022/CS7250%20-%20InfViz/Final%20Project/Github_repos/BiaScope/preprocessing/NodePreprocessing_5.ipynb#ch0000007?line=38'>39</a>\u001b[0m                                 rho_u))\n",
      "File \u001b[0;32m~/Documents/PhD - Northeastern/Academics/Courses/Spring 22/CS7250 - InfViz/Final Project/Github_repos/BiaScope/preprocessing/../utilities.py:82\u001b[0m, in \u001b[0;36mrecommended_nodes\u001b[0;34m(Y, W, node_idx, k)\u001b[0m\n\u001b[1;32m     <a href='file:///Users/brunoscarone/Documents/PhD%20-%20Northeastern/Academics/Courses/Spring%2022/CS7250%20-%20InfViz/Final%20Project/Github_repos/BiaScope/preprocessing/../utilities.py?line=79'>80</a>\u001b[0m n \u001b[39m=\u001b[39m \u001b[39mlen\u001b[39m(W)\n\u001b[1;32m     <a href='file:///Users/brunoscarone/Documents/PhD%20-%20Northeastern/Academics/Courses/Spring%2022/CS7250%20-%20InfViz/Final%20Project/Github_repos/BiaScope/preprocessing/../utilities.py?line=80'>81</a>\u001b[0m similarities \u001b[39m=\u001b[39m [(v,np\u001b[39m.\u001b[39mdot(Y[node_idx],Y[v])) \u001b[39mfor\u001b[39;00m v \u001b[39min\u001b[39;00m \u001b[39mrange\u001b[39m(n) \u001b[39mif\u001b[39;00m (v \u001b[39m!=\u001b[39m node_idx) \u001b[39mand\u001b[39;00m (\u001b[39mnot\u001b[39;00m W[node_idx,v])]\n\u001b[0;32m---> <a href='file:///Users/brunoscarone/Documents/PhD%20-%20Northeastern/Academics/Courses/Spring%2022/CS7250%20-%20InfViz/Final%20Project/Github_repos/BiaScope/preprocessing/../utilities.py?line=81'>82</a>\u001b[0m similarities\u001b[39m.\u001b[39;49msort(key \u001b[39m=\u001b[39;49m \u001b[39mlambda\u001b[39;49;00m x : x[\u001b[39m1\u001b[39;49m],reverse\u001b[39m=\u001b[39;49m\u001b[39mTrue\u001b[39;49;00m)\n\u001b[1;32m     <a href='file:///Users/brunoscarone/Documents/PhD%20-%20Northeastern/Academics/Courses/Spring%2022/CS7250%20-%20InfViz/Final%20Project/Github_repos/BiaScope/preprocessing/../utilities.py?line=82'>83</a>\u001b[0m top_k \u001b[39m=\u001b[39m similarities[\u001b[39m0\u001b[39m:k]\n\u001b[1;32m     <a href='file:///Users/brunoscarone/Documents/PhD%20-%20Northeastern/Academics/Courses/Spring%2022/CS7250%20-%20InfViz/Final%20Project/Github_repos/BiaScope/preprocessing/../utilities.py?line=84'>85</a>\u001b[0m rho_u \u001b[39m=\u001b[39m [v \u001b[39mfor\u001b[39;00m (v,_) \u001b[39min\u001b[39;00m top_k]\n",
      "\u001b[0;31mKeyboardInterrupt\u001b[0m: "
     ]
    }
   ],
   "source": [
    "# generate csv file with group fairness parameters and score\n",
    "# nodeid, sensitive attribute (S), value (z), k, g.f. score\n",
    "for graph_name in graph_metadata:\n",
    "    print(\"\\n\\n\" + graph_name)\n",
    "    # node_features = {}\n",
    "\n",
    "    edgelist_file = graph_metadata[graph_name][\"edgelist\"]\n",
    "    G = nx.read_edgelist(edgelist_file)\n",
    "    W = nx.to_numpy_array(G)\n",
    "    \n",
    "    for embedding_alg in embedding_algs:\n",
    "        print(\"\\n\" + embedding_alg)\n",
    "        embedding_file = \"../embeddings/{}/{}/{}_{}_64_embedding.npy\".format(graph_name, \n",
    "                                                                             embedding_alg, \n",
    "                                                                             graph_name, \n",
    "                                                                             embedding_alg)\n",
    "        embedding = np.load(embedding_file)        \n",
    "\n",
    "        # select output file\n",
    "        output_file_gf = \"../embeddings/{}/{}/{}_{}_64_embedding_recommended_nodes.csv\".format(graph_name, \n",
    "                                                                                         embedding_alg, \n",
    "                                                                                         graph_name, \n",
    "                                                                                         embedding_alg)\n",
    "\n",
    "\n",
    "        # create a dict nodeId->sensitive_attrs_val\n",
    "        # recommended_nodes(Y,W,node_idx,k)\n",
    "\n",
    "        with open(output_file_gf, \"w\") as outputCSV:\n",
    "            outputCSV.write(\"id,k,recommended_nodes\\n\")\n",
    "\n",
    "            for node_id in range(len(W)): # node ids start from 0\n",
    "                for k in [25]: # define possible values for k\n",
    "                    # compute recommended nodes\n",
    "                    rho_u = recommended_nodes(embedding,W,node_id,k)\n",
    "                    # write data to csv file\n",
    "                    outputCSV.write(\"{},{},{},\\n\".format(node_id,\n",
    "                                            k,\n",
    "                                            rho_u))"
   ]
  }
 ],
 "metadata": {
  "kernelspec": {
   "display_name": "Python 3 (ipykernel)",
   "language": "python",
   "name": "python3"
  },
  "language_info": {
   "codemirror_mode": {
    "name": "ipython",
    "version": 3
   },
   "file_extension": ".py",
   "mimetype": "text/x-python",
   "name": "python",
   "nbconvert_exporter": "python",
   "pygments_lexer": "ipython3",
   "version": "3.8.13"
  }
 },
 "nbformat": 4,
 "nbformat_minor": 4
}
