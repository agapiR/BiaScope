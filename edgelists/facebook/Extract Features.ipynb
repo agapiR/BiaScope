{
 "cells": [
  {
   "cell_type": "code",
   "execution_count": 9,
   "metadata": {},
   "outputs": [],
   "source": [
    "import numpy as np\n",
    "import pandas as pd"
   ]
  },
  {
   "cell_type": "code",
   "execution_count": 2,
   "metadata": {},
   "outputs": [],
   "source": [
    "egoIds = [0, 107, 1684, 1912, 3437, 348, 3980, 414, 686, 698]\n",
    "ids = set() \n",
    "for egoId in egoIds:\n",
    "    with open(\"{}.feat\".format(egoId), \"r\") as featureFile:\n",
    "        features_txt_list = featureFile.readlines()\n",
    "        nodeIds = [line.split(\" \")[0] for line in features_txt_list]\n",
    "    ids.update(nodeIds)"
   ]
  },
  {
   "cell_type": "code",
   "execution_count": 4,
   "metadata": {},
   "outputs": [
    {
     "name": "stdout",
     "output_type": "stream",
     "text": [
      "nodeId 0\tNumber of Feature Names: 224\t Number of Features: 224\n",
      "nodeId 107\tNumber of Feature Names: 576\t Number of Features: 576\n",
      "nodeId 1684\tNumber of Feature Names: 319\t Number of Features: 319\n",
      "nodeId 1912\tNumber of Feature Names: 480\t Number of Features: 480\n",
      "nodeId 3437\tNumber of Feature Names: 262\t Number of Features: 262\n",
      "nodeId 348\tNumber of Feature Names: 161\t Number of Features: 161\n",
      "nodeId 3980\tNumber of Feature Names: 42\t Number of Features: 42\n",
      "nodeId 414\tNumber of Feature Names: 105\t Number of Features: 105\n",
      "nodeId 686\tNumber of Feature Names: 63\t Number of Features: 63\n",
      "nodeId 698\tNumber of Feature Names: 48\t Number of Features: 48\n"
     ]
    }
   ],
   "source": [
    "for egoId in egoIds:\n",
    "    with open(\"{}.featnames\".format(egoId), \"r\") as featureFile:\n",
    "        feature_names = featureFile.readlines()\n",
    "        num_featurenames = len(feature_names)\n",
    "    \n",
    "    with open(\"{}.feat\".format(egoId), \"r\") as featureFile:\n",
    "        num_features = len(featureFile.readlines()[0].split(\" \")) - 1 #minus nodeId\n",
    "        \n",
    "    print (\"nodeId {}\\tNumber of Feature Names: {}\\t Number of Features: {}\".format(\n",
    "        egoId,\n",
    "        num_featurenames,\n",
    "        num_features))"
   ]
  },
  {
   "cell_type": "code",
   "execution_count": 16,
   "metadata": {},
   "outputs": [
    {
     "name": "stdout",
     "output_type": "stream",
     "text": [
      "77\n",
      "264\n",
      "147\n",
      "259\n",
      "117\n",
      "86\n",
      "19\n",
      "63\n",
      "41\n",
      "26\n",
      "4035\n"
     ]
    }
   ],
   "source": [
    "node_genders = {}\n",
    "egoIds = [0, 107, 1684, 1912, 3437, 348, 3980, 414, 686, 698]\n",
    "for egoId in egoIds:\n",
    "    # read in feature names \n",
    "    gender_column = -1\n",
    "    with open(\"{}.featnames\".format(egoId)) as featnamesFile:\n",
    "        feature_names = featnamesFile.readlines()\n",
    "        for featname in feature_names:\n",
    "            if \"gender\" in featname:\n",
    "                gender_column = int(featname.split(\" \")[0])\n",
    "                break\n",
    "        print(gender_column)\n",
    "\n",
    "    # read in node features \n",
    "    with open(\"{}.feat\".format(egoId), \"r\") as featuresFile:\n",
    "        egonet_features = [line.split(\" \") for line in featuresFile.readlines()]\n",
    "        egonet_genders = [[node_features[0], node_features[gender_column + 1]] for node_features in egonet_features] \n",
    "        for node in egonet_genders:\n",
    "            if node[0] in node_genders:\n",
    "                assert(node[1] == node_genders[node[0]])\n",
    "            else:\n",
    "                node_genders[node[0]] = node[1]"
   ]
  },
  {
   "cell_type": "code",
   "execution_count": 17,
   "metadata": {},
   "outputs": [],
   "source": [
    "with open(\"node_genders.txt\", \"w\") as node_genders_file:\n",
    "    node_genders_file.write(\"nodeId, gender\\n\")\n",
    "    for nodeId in node_genders:\n",
    "        node_genders_file.write(\"{}, {}\\n\".format(nodeId, node_genders[nodeId]))"
   ]
  },
  {
   "cell_type": "code",
   "execution_count": null,
   "metadata": {},
   "outputs": [],
   "source": []
  }
 ],
 "metadata": {
  "kernelspec": {
   "display_name": "Python 3",
   "language": "python",
   "name": "python3"
  },
  "language_info": {
   "codemirror_mode": {
    "name": "ipython",
    "version": 3
   },
   "file_extension": ".py",
   "mimetype": "text/x-python",
   "name": "python",
   "nbconvert_exporter": "python",
   "pygments_lexer": "ipython3",
   "version": "3.7.6"
  }
 },
 "nbformat": 4,
 "nbformat_minor": 4
}
